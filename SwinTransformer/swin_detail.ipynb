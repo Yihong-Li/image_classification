{
 "cells": [
  {
   "cell_type": "code",
   "execution_count": 1,
   "id": "dc2d390a",
   "metadata": {},
   "outputs": [],
   "source": [
    "import torch\n",
    "import torch.nn as nn\n",
    "import torch.nn.functional as F\n",
    "import torch.utils.checkpoint as checkpoint\n",
    "import numpy as np\n",
    "from typing import Optional"
   ]
  },
  {
   "cell_type": "markdown",
   "id": "5ae91e06",
   "metadata": {},
   "source": [
    "### Drop path (Stochastic Depth)"
   ]
  },
  {
   "cell_type": "code",
   "execution_count": 2,
   "id": "7e22c800",
   "metadata": {},
   "outputs": [],
   "source": [
    "def drop_path_f(x, drop_prob: float = 0., training: bool = False):\n",
    "    \"\"\"Drop paths (Stochastic Depth) per sample (when applied in main path of residual blocks).\n",
    "    This is the same as the DropConnect impl I created for EfficientNet, etc networks, however,\n",
    "    the original name is misleading as 'Drop Connect' is a different form of dropout in a separate paper...\n",
    "    See discussion: https://github.com/tensorflow/tpu/issues/494#issuecomment-532968956 ... I've opted for\n",
    "    changing the layer and argument names to 'drop path' rather than mix DropConnect as a layer name and use\n",
    "    'survival rate' as the argument.\n",
    "    \"\"\"\n",
    "    if drop_prob == 0. or not training:\n",
    "        return x\n",
    "    keep_prob = 1 - drop_prob\n",
    "    shape = (x.shape[0],) + (1,) * (x.ndim - 1)  # work with diff dim tensors, not just 2D ConvNets\n",
    "    random_tensor = keep_prob + torch.rand(shape, dtype=x.dtype, device=x.device)\n",
    "    random_tensor.floor_()  # binarize\n",
    "    output = x.div(keep_prob) * random_tensor\n",
    "    return output"
   ]
  },
  {
   "cell_type": "code",
   "execution_count": 9,
   "id": "d8080f0a",
   "metadata": {
    "scrolled": true
   },
   "outputs": [
    {
     "data": {
      "text/plain": [
       "tensor([[[0.4225, 0.6266],\n",
       "         [0.0390, 0.0111]],\n",
       "\n",
       "        [[0.0000, 0.0000],\n",
       "         [0.0000, 0.0000]],\n",
       "\n",
       "        [[0.5573, 1.3916],\n",
       "         [0.5250, 0.1318]],\n",
       "\n",
       "        [[1.1811, 1.2200],\n",
       "         [0.6533, 1.2629]],\n",
       "\n",
       "        [[0.0000, 0.0000],\n",
       "         [0.0000, 0.0000]]])"
      ]
     },
     "execution_count": 9,
     "metadata": {},
     "output_type": "execute_result"
    }
   ],
   "source": [
    "x = torch.rand((5,2,2))\n",
    "drop_path_f(x, drop_prob=0.3, training=True)"
   ]
  },
  {
   "cell_type": "markdown",
   "id": "4edfc309",
   "metadata": {},
   "source": [
    "### Window Partition"
   ]
  },
  {
   "cell_type": "code",
   "execution_count": 13,
   "id": "ba21433c",
   "metadata": {},
   "outputs": [],
   "source": [
    "def window_partition(x, window_size: int):\n",
    "    \"\"\"\n",
    "    将feature map按照window_size划分成一个个没有重叠的window,用于之后的W-MSA,SW-MSA\n",
    "    Args:\n",
    "        x: (B, H, W, C)\n",
    "        window_size (int): window size(M)\n",
    "    Returns:\n",
    "        windows: (num_windows*B, window_size, window_size, C)\n",
    "    \"\"\"\n",
    "    B, H, W, C = x.shape\n",
    "    x = x.view(B, H // window_size, window_size, W // window_size, window_size, C)\n",
    "    # permute: [B, H//Mh, Mh, W//Mw, Mw, C] -> [B, H//Mh, W//Mh, Mw, Mw, C]\n",
    "    # view: [B, H//Mh, W//Mw, Mh, Mw, C] -> [B*num_windows, Mh, Mw, C]\n",
    "    windows = x.permute(0, 1, 3, 2, 4, 5).contiguous().view(-1, window_size, window_size, C)\n",
    "    return windows\n",
    "\n",
    "def window_reverse(windows, window_size: int, H: int, W: int):\n",
    "    \"\"\"\n",
    "    将一个个window还原成一个feature map\n",
    "    Args:\n",
    "        windows: (num_windows*B, window_size, window_size, C)\n",
    "        window_size (int): Window size(M)\n",
    "        H (int): Height of image\n",
    "        W (int): Width of image\n",
    "    Returns:\n",
    "        x: (B, H, W, C)\n",
    "    \"\"\"\n",
    "    B = int(windows.shape[0] / (H * W / window_size / window_size))\n",
    "    # view: [B*num_windows, Mh, Mw, C] -> [B, H//Mh, W//Mw, Mh, Mw, C]\n",
    "    x = windows.view(B, H // window_size, W // window_size, window_size, window_size, -1)\n",
    "    # permute: [B, H//Mh, W//Mw, Mh, Mw, C] -> [B, H//Mh, Mh, W//Mw, Mw, C]\n",
    "    # view: [B, H//Mh, Mh, W//Mw, Mw, C] -> [B, H, W, C]\n",
    "    x = x.permute(0, 1, 3, 2, 4, 5).contiguous().view(B, H, W, -1)\n",
    "    return x"
   ]
  },
  {
   "cell_type": "code",
   "execution_count": 19,
   "id": "188d1b54",
   "metadata": {},
   "outputs": [
    {
     "data": {
      "text/plain": [
       "torch.Size([64, 7, 7, 48])"
      ]
     },
     "execution_count": 19,
     "metadata": {},
     "output_type": "execute_result"
    }
   ],
   "source": [
    "x = torch.rand(1, 56, 56, 48)\n",
    "# batchsize * (56/7) * (56/7)\n",
    "y = window_partition(x, window_size=7)\n",
    "y.shape"
   ]
  },
  {
   "cell_type": "code",
   "execution_count": 20,
   "id": "215b9c20",
   "metadata": {},
   "outputs": [
    {
     "data": {
      "text/plain": [
       "torch.Size([1, 56, 56, 48])"
      ]
     },
     "execution_count": 20,
     "metadata": {},
     "output_type": "execute_result"
    }
   ],
   "source": [
    "z = window_reverse(y, 7, 56, 56)\n",
    "z.shape"
   ]
  },
  {
   "cell_type": "code",
   "execution_count": 24,
   "id": "e5a7efb4",
   "metadata": {},
   "outputs": [
    {
     "data": {
      "text/plain": [
       "tensor(0)"
      ]
     },
     "execution_count": 24,
     "metadata": {},
     "output_type": "execute_result"
    }
   ],
   "source": [
    "# x and z are the same\n",
    "torch.sum(z != x)"
   ]
  },
  {
   "cell_type": "markdown",
   "id": "fa0c822e",
   "metadata": {},
   "source": [
    "### Patch Embedding + Linear Projection"
   ]
  },
  {
   "cell_type": "code",
   "execution_count": 63,
   "id": "1a01f069",
   "metadata": {},
   "outputs": [],
   "source": [
    "class PatchEmbed(nn.Module):\n",
    "    \"\"\"\n",
    "    2D Image to Patch Embedding\n",
    "    \"\"\"\n",
    "    def __init__(self, patch_size=4, in_c=3, embed_dim=96, norm_layer=None):\n",
    "        super().__init__()\n",
    "        patch_size = (patch_size, patch_size)\n",
    "        self.patch_size = patch_size\n",
    "        self.in_chans = in_c\n",
    "        self.embed_dim = embed_dim\n",
    "        self.proj = nn.Conv2d(in_c, embed_dim, kernel_size=patch_size, stride=patch_size)\n",
    "        self.norm = norm_layer(embed_dim) if norm_layer else nn.Identity()\n",
    "\n",
    "    def forward(self, x):\n",
    "        _, _, H, W = x.shape\n",
    "        # padding\n",
    "        # 如果输入图片的H，W不是patch_size的整数倍，需要进行padding\n",
    "        pad_input = (H % self.patch_size[0] != 0) or (W % self.patch_size[1] != 0)\n",
    "        if pad_input:\n",
    "            # to pad the last 3 dimensions,\n",
    "            # (W_left, W_right, H_top,H_bottom, C_front, C_back)\n",
    "            x = F.pad(x, (0, self.patch_size[1] - W % self.patch_size[1],\n",
    "                          0, self.patch_size[0] - H % self.patch_size[0],\n",
    "                          0, 0))\n",
    "        # 下采样patch_size倍\n",
    "        x = self.proj(x)\n",
    "        _, _, H, W = x.shape\n",
    "        # flatten: [B, C, H, W] -> [B, C, HW]\n",
    "        # transpose: [B, C, HW] -> [B, HW, C]\n",
    "        x = x.flatten(2).transpose(1, 2)\n",
    "        x = self.norm(x)\n",
    "        return x, H, W"
   ]
  },
  {
   "cell_type": "code",
   "execution_count": 64,
   "id": "bd4c87c8",
   "metadata": {},
   "outputs": [
    {
     "data": {
      "text/plain": [
       "torch.Size([2, 3136, 96])"
      ]
     },
     "execution_count": 64,
     "metadata": {},
     "output_type": "execute_result"
    }
   ],
   "source": [
    "img = torch.rand(2, 3, 224, 224)\n",
    "patch_emb = PatchEmbed()\n",
    "x1 = patch_emb(img)[0]\n",
    "# 3136 = (224/4) * (224/4)\n",
    "x1.shape"
   ]
  },
  {
   "cell_type": "markdown",
   "id": "48d46934",
   "metadata": {},
   "source": [
    "### Patch Merging"
   ]
  },
  {
   "cell_type": "code",
   "execution_count": 65,
   "id": "fbe768f8",
   "metadata": {},
   "outputs": [],
   "source": [
    "class PatchMerging(nn.Module):\n",
    "    r\"\"\" Patch Merging Layer.\n",
    "    Args:\n",
    "        dim (int): Number of input channels.\n",
    "        norm_layer (nn.Module, optional): Normalization layer.  Default: nn.LayerNorm\n",
    "    \"\"\"\n",
    "\n",
    "    def __init__(self, dim, norm_layer=nn.LayerNorm):\n",
    "        super().__init__()\n",
    "        self.dim = dim\n",
    "        self.reduction = nn.Linear(4 * dim, 2 * dim, bias=False)\n",
    "        self.norm = norm_layer(4 * dim)\n",
    "\n",
    "    def forward(self, x, H, W):\n",
    "        \"\"\"\n",
    "        x: B, H*W, C\n",
    "        \"\"\"\n",
    "        B, L, C = x.shape\n",
    "        assert L == H * W, \"input feature has wrong size\"\n",
    "        x = x.view(B, H, W, C)\n",
    "        # padding\n",
    "        # 如果输入feature map的H，W不是2的整数倍，需要进行padding\n",
    "        pad_input = (H % 2 == 1) or (W % 2 == 1)\n",
    "        if pad_input:\n",
    "            # to pad the last 3 dimensions, starting from the last dimension and moving forward.\n",
    "            # (C_front, C_back, W_left, W_right, H_top, H_bottom)\n",
    "            # 注意这里的Tensor通道是[B, H, W, C]，所以会和官方文档有些不同\n",
    "              x = F.pad(x, (0, 0, 0, W % 2, 0, H % 2))\n",
    "        x0 = x[:, 0::2, 0::2, :]  # [B, H/2, W/2, C]\n",
    "        x1 = x[:, 1::2, 0::2, :]  # [B, H/2, W/2, C]\n",
    "        x2 = x[:, 0::2, 1::2, :]  # [B, H/2, W/2, C]\n",
    "        x3 = x[:, 1::2, 1::2, :]  # [B, H/2, W/2, C]\n",
    "        x = torch.cat([x0, x1, x2, x3], -1)  # [B, H/2, W/2, 4*C]\n",
    "        x = x.view(B, -1, 4 * C)  # [B, H/2*W/2, 4*C]\n",
    "        x = self.norm(x)\n",
    "        x = self.reduction(x)  # [B, H/2*W/2, 2*C]\n",
    "        return x"
   ]
  },
  {
   "cell_type": "code",
   "execution_count": 84,
   "id": "d96bbe3b",
   "metadata": {},
   "outputs": [
    {
     "data": {
      "text/plain": [
       "torch.Size([2, 784, 192])"
      ]
     },
     "execution_count": 84,
     "metadata": {},
     "output_type": "execute_result"
    }
   ],
   "source": [
    "patch_mer = PatchMerging(96)\n",
    "# 784 = 28 * 28\n",
    "patch_mer(x1, 56, 56).shape"
   ]
  },
  {
   "cell_type": "markdown",
   "id": "71ce7f19",
   "metadata": {},
   "source": [
    "### Relative Position Bias"
   ]
  },
  {
   "cell_type": "code",
   "execution_count": 99,
   "id": "1c351959",
   "metadata": {},
   "outputs": [],
   "source": [
    "# Assume 2 * 2 window size\n",
    "window_size = (2, 2)\n",
    "coords_h = torch.arange(window_size[0])\n",
    "coords_w = torch.arange(window_size[1])"
   ]
  },
  {
   "cell_type": "code",
   "execution_count": 100,
   "id": "9d2e6950",
   "metadata": {},
   "outputs": [
    {
     "data": {
      "text/plain": [
       "tensor([[[0, 0],\n",
       "         [1, 1]],\n",
       "\n",
       "        [[0, 1],\n",
       "         [0, 1]]])"
      ]
     },
     "execution_count": 100,
     "metadata": {},
     "output_type": "execute_result"
    }
   ],
   "source": [
    "coords = torch.stack(torch.meshgrid([coords_h, coords_w], indexing=\"ij\"))\n",
    "coords"
   ]
  },
  {
   "cell_type": "code",
   "execution_count": 101,
   "id": "8afac84d",
   "metadata": {},
   "outputs": [
    {
     "data": {
      "text/plain": [
       "tensor([[0, 0, 1, 1],\n",
       "        [0, 1, 0, 1]])"
      ]
     },
     "execution_count": 101,
     "metadata": {},
     "output_type": "execute_result"
    }
   ],
   "source": [
    "coords_flatten = torch.flatten(coords, 1)\n",
    "coords_flatten  # [2, Mh*Mw]  绝对位置索引"
   ]
  },
  {
   "cell_type": "code",
   "execution_count": 102,
   "id": "c224349c",
   "metadata": {},
   "outputs": [
    {
     "data": {
      "text/plain": [
       "tensor([0, 0, 1, 1])"
      ]
     },
     "execution_count": 102,
     "metadata": {},
     "output_type": "execute_result"
    }
   ],
   "source": [
    "coords_flatten[0]  # 第i行"
   ]
  },
  {
   "cell_type": "code",
   "execution_count": 103,
   "id": "5435abaa",
   "metadata": {},
   "outputs": [
    {
     "data": {
      "text/plain": [
       "tensor([0, 1, 0, 1])"
      ]
     },
     "execution_count": 103,
     "metadata": {},
     "output_type": "execute_result"
    }
   ],
   "source": [
    "coords_flatten[1]  #第j列"
   ]
  },
  {
   "cell_type": "code",
   "execution_count": 105,
   "id": "5750fc52",
   "metadata": {},
   "outputs": [
    {
     "data": {
      "text/plain": [
       "tensor([[[ 0,  0, -1, -1],\n",
       "         [ 0,  0, -1, -1],\n",
       "         [ 1,  1,  0,  0],\n",
       "         [ 1,  1,  0,  0]],\n",
       "\n",
       "        [[ 0, -1,  0, -1],\n",
       "         [ 1,  0,  1,  0],\n",
       "         [ 0, -1,  0, -1],\n",
       "         [ 1,  0,  1,  0]]])"
      ]
     },
     "execution_count": 105,
     "metadata": {},
     "output_type": "execute_result"
    }
   ],
   "source": [
    "relative_coords = coords_flatten[:, :, None] - coords_flatten[:, None, :]\n",
    "relative_coords"
   ]
  },
  {
   "cell_type": "code",
   "execution_count": 106,
   "id": "302df885",
   "metadata": {},
   "outputs": [
    {
     "data": {
      "text/plain": [
       "tensor([[[ 0,  0],\n",
       "         [ 0, -1],\n",
       "         [-1,  0],\n",
       "         [-1, -1]],\n",
       "\n",
       "        [[ 0,  1],\n",
       "         [ 0,  0],\n",
       "         [-1,  1],\n",
       "         [-1,  0]],\n",
       "\n",
       "        [[ 1,  0],\n",
       "         [ 1, -1],\n",
       "         [ 0,  0],\n",
       "         [ 0, -1]],\n",
       "\n",
       "        [[ 1,  1],\n",
       "         [ 1,  0],\n",
       "         [ 0,  1],\n",
       "         [ 0,  0]]])"
      ]
     },
     "execution_count": 106,
     "metadata": {},
     "output_type": "execute_result"
    }
   ],
   "source": [
    "relative_coords = relative_coords.permute(1, 2, 0).contiguous()\n",
    "relative_coords"
   ]
  },
  {
   "cell_type": "code",
   "execution_count": 108,
   "id": "b292b88b",
   "metadata": {},
   "outputs": [
    {
     "data": {
      "text/plain": [
       "tensor([[4, 3, 1, 0],\n",
       "        [5, 4, 2, 1],\n",
       "        [7, 6, 4, 3],\n",
       "        [8, 7, 5, 4]])"
      ]
     },
     "execution_count": 108,
     "metadata": {},
     "output_type": "execute_result"
    }
   ],
   "source": [
    "relative_coords[:, :, 0] += window_size[0] - 1  # shift to start from 0\n",
    "relative_coords[:, :, 1] += window_size[1] - 1\n",
    "relative_coords[:, :, 0] *= 2 * window_size[1] - 1\n",
    "relative_position_index = relative_coords.sum(-1)\n",
    "relative_position_index"
   ]
  },
  {
   "cell_type": "code",
   "execution_count": 110,
   "id": "a421189b",
   "metadata": {},
   "outputs": [
    {
     "data": {
      "text/plain": [
       "torch.Size([9, 3])"
      ]
     },
     "execution_count": 110,
     "metadata": {},
     "output_type": "execute_result"
    }
   ],
   "source": [
    "num_heads = 3\n",
    "relative_position_bias_table = nn.Parameter(\n",
    "            torch.zeros((2 * window_size[0] - 1) * (2 * window_size[1] - 1), num_heads))\n",
    "relative_position_bias_table.shape"
   ]
  },
  {
   "cell_type": "code",
   "execution_count": 116,
   "id": "f1789333",
   "metadata": {},
   "outputs": [
    {
     "data": {
      "text/plain": [
       "torch.Size([16, 3])"
      ]
     },
     "execution_count": 116,
     "metadata": {},
     "output_type": "execute_result"
    }
   ],
   "source": [
    "relative_position_bias_table[relative_position_index.view(-1)].shape"
   ]
  },
  {
   "cell_type": "code",
   "execution_count": 117,
   "id": "09987bf5",
   "metadata": {},
   "outputs": [
    {
     "data": {
      "text/plain": [
       "torch.Size([4, 4, 3])"
      ]
     },
     "execution_count": 117,
     "metadata": {},
     "output_type": "execute_result"
    }
   ],
   "source": [
    "relative_position_bias_table[relative_position_index.view(-1)].view(\n",
    "            window_size[0] * window_size[1], window_size[0] * window_size[1], -1).shape"
   ]
  },
  {
   "cell_type": "code",
   "execution_count": null,
   "id": "5307fecf",
   "metadata": {},
   "outputs": [],
   "source": [
    "def create_mask_simplified(self, H, W):\n",
    "    # H, W是window_size的整数倍\n",
    "    window_size = 3\n",
    "    shift_size = 1\n",
    "    img_mask = torch.zeros((1, H, W, 1)) \n",
    "    h_slices = (slice(0, -window_size),\n",
    "                slice(-window_size, -shift_size),\n",
    "                slice(-shift_size, None))\n",
    "    w_slices = (slice(0, -window_size),\n",
    "                slice(-window_size, -shift_size),\n",
    "                slice(-shift_size, None))\n",
    "    cnt = 0\n",
    "    for h in h_slices:\n",
    "        for w in w_slices:\n",
    "            img_mask[:, h, w, :] = cnt\n",
    "            cnt += 1\n",
    "    print(img_mask)\n",
    "\n",
    "    mask_windows = window_partition(img_mask, self.window_size)  # [nW, Mh, Mw, 1]\n",
    "    mask_windows = mask_windows.view(-1, self.window_size * self.window_size)  # [nW, Mh*Mw]\n",
    "    attn_mask = mask_windows.unsqueeze(1) - mask_windows.unsqueeze(2)  # [nW, 1, Mh*Mw] - [nW, Mh*Mw, 1]\n",
    "    # [nW, Mh*Mw, Mh*Mw]\n",
    "    attn_mask = attn_mask.masked_fill(attn_mask != 0, float(-100.0)).masked_fill(attn_mask == 0, float(0.0))\n",
    "    return attn_mask"
   ]
  },
  {
   "cell_type": "code",
   "execution_count": null,
   "id": "7544d59e",
   "metadata": {},
   "outputs": [],
   "source": []
  },
  {
   "cell_type": "code",
   "execution_count": 136,
   "id": "62871661",
   "metadata": {},
   "outputs": [
    {
     "data": {
      "text/plain": [
       "tensor([[[   0.,    0.,    0.,    0.,    0.,    0.,    0.,    0.,    0.],\n",
       "         [   0.,    0.,    0.,    0.,    0.,    0.,    0.,    0.,    0.],\n",
       "         [   0.,    0.,    0.,    0.,    0.,    0.,    0.,    0.,    0.],\n",
       "         [   0.,    0.,    0.,    0.,    0.,    0.,    0.,    0.,    0.],\n",
       "         [   0.,    0.,    0.,    0.,    0.,    0.,    0.,    0.,    0.],\n",
       "         [   0.,    0.,    0.,    0.,    0.,    0.,    0.,    0.,    0.],\n",
       "         [   0.,    0.,    0.,    0.,    0.,    0.,    0.,    0.,    0.],\n",
       "         [   0.,    0.,    0.,    0.,    0.,    0.,    0.,    0.,    0.],\n",
       "         [   0.,    0.,    0.,    0.,    0.,    0.,    0.,    0.,    0.]],\n",
       "\n",
       "        [[   0.,    0.,    0.,    0.,    0.,    0.,    0.,    0.,    0.],\n",
       "         [   0.,    0.,    0.,    0.,    0.,    0.,    0.,    0.,    0.],\n",
       "         [   0.,    0.,    0.,    0.,    0.,    0.,    0.,    0.,    0.],\n",
       "         [   0.,    0.,    0.,    0.,    0.,    0.,    0.,    0.,    0.],\n",
       "         [   0.,    0.,    0.,    0.,    0.,    0.,    0.,    0.,    0.],\n",
       "         [   0.,    0.,    0.,    0.,    0.,    0.,    0.,    0.,    0.],\n",
       "         [   0.,    0.,    0.,    0.,    0.,    0.,    0.,    0.,    0.],\n",
       "         [   0.,    0.,    0.,    0.,    0.,    0.,    0.,    0.,    0.],\n",
       "         [   0.,    0.,    0.,    0.,    0.,    0.,    0.,    0.,    0.]],\n",
       "\n",
       "        [[   0.,    0., -100.,    0.,    0., -100.,    0.,    0., -100.],\n",
       "         [   0.,    0., -100.,    0.,    0., -100.,    0.,    0., -100.],\n",
       "         [-100., -100.,    0., -100., -100.,    0., -100., -100.,    0.],\n",
       "         [   0.,    0., -100.,    0.,    0., -100.,    0.,    0., -100.],\n",
       "         [   0.,    0., -100.,    0.,    0., -100.,    0.,    0., -100.],\n",
       "         [-100., -100.,    0., -100., -100.,    0., -100., -100.,    0.],\n",
       "         [   0.,    0., -100.,    0.,    0., -100.,    0.,    0., -100.],\n",
       "         [   0.,    0., -100.,    0.,    0., -100.,    0.,    0., -100.],\n",
       "         [-100., -100.,    0., -100., -100.,    0., -100., -100.,    0.]],\n",
       "\n",
       "        [[   0.,    0.,    0.,    0.,    0.,    0.,    0.,    0.,    0.],\n",
       "         [   0.,    0.,    0.,    0.,    0.,    0.,    0.,    0.,    0.],\n",
       "         [   0.,    0.,    0.,    0.,    0.,    0.,    0.,    0.,    0.],\n",
       "         [   0.,    0.,    0.,    0.,    0.,    0.,    0.,    0.,    0.],\n",
       "         [   0.,    0.,    0.,    0.,    0.,    0.,    0.,    0.,    0.],\n",
       "         [   0.,    0.,    0.,    0.,    0.,    0.,    0.,    0.,    0.],\n",
       "         [   0.,    0.,    0.,    0.,    0.,    0.,    0.,    0.,    0.],\n",
       "         [   0.,    0.,    0.,    0.,    0.,    0.,    0.,    0.,    0.],\n",
       "         [   0.,    0.,    0.,    0.,    0.,    0.,    0.,    0.,    0.]],\n",
       "\n",
       "        [[   0.,    0.,    0.,    0.,    0.,    0.,    0.,    0.,    0.],\n",
       "         [   0.,    0.,    0.,    0.,    0.,    0.,    0.,    0.,    0.],\n",
       "         [   0.,    0.,    0.,    0.,    0.,    0.,    0.,    0.,    0.],\n",
       "         [   0.,    0.,    0.,    0.,    0.,    0.,    0.,    0.,    0.],\n",
       "         [   0.,    0.,    0.,    0.,    0.,    0.,    0.,    0.,    0.],\n",
       "         [   0.,    0.,    0.,    0.,    0.,    0.,    0.,    0.,    0.],\n",
       "         [   0.,    0.,    0.,    0.,    0.,    0.,    0.,    0.,    0.],\n",
       "         [   0.,    0.,    0.,    0.,    0.,    0.,    0.,    0.,    0.],\n",
       "         [   0.,    0.,    0.,    0.,    0.,    0.,    0.,    0.,    0.]],\n",
       "\n",
       "        [[   0.,    0., -100.,    0.,    0., -100.,    0.,    0., -100.],\n",
       "         [   0.,    0., -100.,    0.,    0., -100.,    0.,    0., -100.],\n",
       "         [-100., -100.,    0., -100., -100.,    0., -100., -100.,    0.],\n",
       "         [   0.,    0., -100.,    0.,    0., -100.,    0.,    0., -100.],\n",
       "         [   0.,    0., -100.,    0.,    0., -100.,    0.,    0., -100.],\n",
       "         [-100., -100.,    0., -100., -100.,    0., -100., -100.,    0.],\n",
       "         [   0.,    0., -100.,    0.,    0., -100.,    0.,    0., -100.],\n",
       "         [   0.,    0., -100.,    0.,    0., -100.,    0.,    0., -100.],\n",
       "         [-100., -100.,    0., -100., -100.,    0., -100., -100.,    0.]],\n",
       "\n",
       "        [[   0.,    0.,    0.,    0.,    0.,    0., -100., -100., -100.],\n",
       "         [   0.,    0.,    0.,    0.,    0.,    0., -100., -100., -100.],\n",
       "         [   0.,    0.,    0.,    0.,    0.,    0., -100., -100., -100.],\n",
       "         [   0.,    0.,    0.,    0.,    0.,    0., -100., -100., -100.],\n",
       "         [   0.,    0.,    0.,    0.,    0.,    0., -100., -100., -100.],\n",
       "         [   0.,    0.,    0.,    0.,    0.,    0., -100., -100., -100.],\n",
       "         [-100., -100., -100., -100., -100., -100.,    0.,    0.,    0.],\n",
       "         [-100., -100., -100., -100., -100., -100.,    0.,    0.,    0.],\n",
       "         [-100., -100., -100., -100., -100., -100.,    0.,    0.,    0.]],\n",
       "\n",
       "        [[   0.,    0.,    0.,    0.,    0.,    0., -100., -100., -100.],\n",
       "         [   0.,    0.,    0.,    0.,    0.,    0., -100., -100., -100.],\n",
       "         [   0.,    0.,    0.,    0.,    0.,    0., -100., -100., -100.],\n",
       "         [   0.,    0.,    0.,    0.,    0.,    0., -100., -100., -100.],\n",
       "         [   0.,    0.,    0.,    0.,    0.,    0., -100., -100., -100.],\n",
       "         [   0.,    0.,    0.,    0.,    0.,    0., -100., -100., -100.],\n",
       "         [-100., -100., -100., -100., -100., -100.,    0.,    0.,    0.],\n",
       "         [-100., -100., -100., -100., -100., -100.,    0.,    0.,    0.],\n",
       "         [-100., -100., -100., -100., -100., -100.,    0.,    0.,    0.]],\n",
       "\n",
       "        [[   0.,    0., -100.,    0.,    0., -100., -100., -100., -100.],\n",
       "         [   0.,    0., -100.,    0.,    0., -100., -100., -100., -100.],\n",
       "         [-100., -100.,    0., -100., -100.,    0., -100., -100., -100.],\n",
       "         [   0.,    0., -100.,    0.,    0., -100., -100., -100., -100.],\n",
       "         [   0.,    0., -100.,    0.,    0., -100., -100., -100., -100.],\n",
       "         [-100., -100.,    0., -100., -100.,    0., -100., -100., -100.],\n",
       "         [-100., -100., -100., -100., -100., -100.,    0.,    0., -100.],\n",
       "         [-100., -100., -100., -100., -100., -100.,    0.,    0., -100.],\n",
       "         [-100., -100., -100., -100., -100., -100., -100., -100.,    0.]]])"
      ]
     },
     "execution_count": 136,
     "metadata": {},
     "output_type": "execute_result"
    }
   ],
   "source": [
    "window_size = 3\n",
    "shift_size = 1\n",
    "H = 9\n",
    "W = 9\n",
    "img_mask = torch.zeros((1, H, W, 1)) \n",
    "h_slices = (slice(0, -window_size),\n",
    "            slice(-window_size, -shift_size),\n",
    "            slice(-shift_size, None))\n",
    "w_slices = (slice(0, -window_size),\n",
    "            slice(-window_size, -shift_size),\n",
    "            slice(-shift_size, None))\n",
    "cnt = 0\n",
    "for h in h_slices:\n",
    "    for w in w_slices:\n",
    "        img_mask[:, h, w, :] = cnt\n",
    "        cnt += 1\n",
    "mask_windows = window_partition(img_mask, window_size)\n",
    "mask_windows = mask_windows.view(-1, window_size * window_size)\n",
    "attn_mask = mask_windows.unsqueeze(1) - mask_windows.unsqueeze(2)  # [nW, 1, Mh*Mw] - [nW, Mh*Mw, 1]\n",
    "attn_mask = attn_mask.masked_fill(attn_mask != 0, float(-100.0)).masked_fill(attn_mask == 0, float(0.0))\n",
    "attn_mask"
   ]
  },
  {
   "cell_type": "code",
   "execution_count": null,
   "id": "bd6bbe12",
   "metadata": {},
   "outputs": [],
   "source": []
  }
 ],
 "metadata": {
  "kernelspec": {
   "display_name": "Python 3 (ipykernel)",
   "language": "python",
   "name": "python3"
  },
  "language_info": {
   "codemirror_mode": {
    "name": "ipython",
    "version": 3
   },
   "file_extension": ".py",
   "mimetype": "text/x-python",
   "name": "python",
   "nbconvert_exporter": "python",
   "pygments_lexer": "ipython3",
   "version": "3.10.9"
  }
 },
 "nbformat": 4,
 "nbformat_minor": 5
}
